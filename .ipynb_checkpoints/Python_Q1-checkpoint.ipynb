{
 "cells": [
  {
   "cell_type": "markdown",
   "id": "383d89e5-df6d-4867-bdb5-3dacf421803d",
   "metadata": {},
   "source": [
    "### Write a program to check if a number is Positive or Negative."
   ]
  },
  {
   "cell_type": "code",
   "execution_count": 2,
   "id": "56c2ef07-8b9d-4990-b8dc-0c440398e734",
   "metadata": {},
   "outputs": [
    {
     "name": "stdin",
     "output_type": "stream",
     "text": [
      "Enter number : 4\n"
     ]
    },
    {
     "name": "stdout",
     "output_type": "stream",
     "text": [
      "Positive\n"
     ]
    }
   ],
   "source": [
    "# Take input from the user and convert it into integer\n",
    "num = int(input(\"Enter number :\")) \n",
    "\n",
    "\n",
    "# Check if number is greater than 0\n",
    "if num > 0 :\n",
    "    print(\"Positive\")\n",
    "    \n",
    "\n",
    "# Check if number is less than 0\n",
    "elif num < 0 :\n",
    "    print(\"Negative\")\n",
    "    \n",
    "\n",
    "# If number is neither greater nor smaller\n",
    "else:\n",
    "    print(\"Zero\")"
   ]
  },
  {
   "cell_type": "code",
   "execution_count": null,
   "id": "ede5edde-da95-49cb-be63-18579e398d49",
   "metadata": {},
   "outputs": [],
   "source": []
  },
  {
   "cell_type": "markdown",
   "id": "2f01132f-4882-4280-bcb8-978effb4e791",
   "metadata": {},
   "source": [
    "### Write a program to check whether a number is Even or Odd."
   ]
  },
  {
   "cell_type": "code",
   "execution_count": 3,
   "id": "5060ae8a-f1bf-4b26-b29c-77213f3f1371",
   "metadata": {},
   "outputs": [
    {
     "name": "stdin",
     "output_type": "stream",
     "text": [
      "Enter number : 5\n"
     ]
    },
    {
     "name": "stdout",
     "output_type": "stream",
     "text": [
      "Number is Odd\n"
     ]
    }
   ],
   "source": [
    "# Take input from the user and convert it into integer\n",
    "num = int(input(\"Enter number :\")) \n",
    "\n",
    "\n",
    "# Check if number is divisible by 2                     # means (remainder 0)\n",
    "if num % 2 == 0 :\n",
    "    print(\"Number is even\")\n",
    "    \n",
    "\n",
    "# Otherwise the number is not divisible by 2 \n",
    "else:\n",
    "    print(\"Number is Odd\")\n"
   ]
  },
  {
   "cell_type": "code",
   "execution_count": null,
   "id": "4956c7d0-7937-4899-8699-2e2ad81a7769",
   "metadata": {},
   "outputs": [],
   "source": []
  },
  {
   "cell_type": "markdown",
   "id": "f96c29a1-4dc7-437b-89a0-221f8e930ff7",
   "metadata": {},
   "source": [
    "### Write a program to find the Sum of First N Natural Numbers."
   ]
  },
  {
   "cell_type": "code",
   "execution_count": 8,
   "id": "485c2132-2a0a-4aaf-8672-442c9b70dd6d",
   "metadata": {},
   "outputs": [
    {
     "name": "stdout",
     "output_type": "stream",
     "text": [
      "15\n"
     ]
    }
   ],
   "source": [
    "# Using for loop \n",
    "\n",
    "num = 5\n",
    "sum = 0 \n",
    "\n",
    "for i in range (num + 1):\n",
    "    sum += i \n",
    "print(sum)"
   ]
  },
  {
   "cell_type": "code",
   "execution_count": null,
   "id": "0fab79a6-66cd-43f9-8d7f-1e5d10d32705",
   "metadata": {},
   "outputs": [],
   "source": []
  },
  {
   "cell_type": "markdown",
   "id": "3e6b9d32-5fe9-46f5-b013-1bf0fa5d0495",
   "metadata": {},
   "source": [
    "### Write a program the Sum of Numbers in a given Range in Python."
   ]
  },
  {
   "cell_type": "code",
   "execution_count": 9,
   "id": "d8eebf40-5611-4546-897a-db05294b8dde",
   "metadata": {},
   "outputs": [
    {
     "name": "stdout",
     "output_type": "stream",
     "text": [
      "9\n"
     ]
    }
   ],
   "source": [
    "# Using for loop  \n",
    "\n",
    "num1 = 2\n",
    "num2 = 4\n",
    "\n",
    "sum = 0 \n",
    "\n",
    "for i in range(num1 , num2 +1):\n",
    "    sum = sum + i \n",
    "\n",
    "print(sum)\n"
   ]
  },
  {
   "cell_type": "code",
   "execution_count": null,
   "id": "274d3204-ac71-40b5-823f-6ca23d833790",
   "metadata": {},
   "outputs": [],
   "source": []
  }
 ],
 "metadata": {
  "kernelspec": {
   "display_name": "Python 3 (ipykernel)",
   "language": "python",
   "name": "python3"
  },
  "language_info": {
   "codemirror_mode": {
    "name": "ipython",
    "version": 3
   },
   "file_extension": ".py",
   "mimetype": "text/x-python",
   "name": "python",
   "nbconvert_exporter": "python",
   "pygments_lexer": "ipython3",
   "version": "3.11.4"
  }
 },
 "nbformat": 4,
 "nbformat_minor": 5
}

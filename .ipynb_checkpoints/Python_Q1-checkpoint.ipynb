{
 "cells": [
  {
   "cell_type": "markdown",
   "id": "383d89e5-df6d-4867-bdb5-3dacf421803d",
   "metadata": {},
   "source": [
    "### Write a program to check if a number is Positive or Negative."
   ]
  },
  {
   "cell_type": "code",
   "execution_count": 2,
   "id": "56c2ef07-8b9d-4990-b8dc-0c440398e734",
   "metadata": {},
   "outputs": [
    {
     "name": "stdin",
     "output_type": "stream",
     "text": [
      "Enter number : 4\n"
     ]
    },
    {
     "name": "stdout",
     "output_type": "stream",
     "text": [
      "Positive\n"
     ]
    }
   ],
   "source": [
    "# Take input from the user and convert it into integer\n",
    "num = int(input(\"Enter number :\")) \n",
    "\n",
    "\n",
    "# Check if number is greater than 0\n",
    "if num > 0 :\n",
    "    print(\"Positive\")\n",
    "    \n",
    "\n",
    "# Check if number is less than 0\n",
    "elif num < 0 :\n",
    "    print(\"Negative\")\n",
    "    \n",
    "\n",
    "# If number is neither greater nor smaller\n",
    "else:\n",
    "    print(\"Zero\")"
   ]
  },
  {
   "cell_type": "code",
   "execution_count": null,
   "id": "ede5edde-da95-49cb-be63-18579e398d49",
   "metadata": {},
   "outputs": [],
   "source": []
  },
  {
   "cell_type": "markdown",
   "id": "2f01132f-4882-4280-bcb8-978effb4e791",
   "metadata": {},
   "source": [
    "### Write a program to check whether a number is Even or Odd."
   ]
  },
  {
   "cell_type": "code",
   "execution_count": 3,
   "id": "5060ae8a-f1bf-4b26-b29c-77213f3f1371",
   "metadata": {},
   "outputs": [
    {
     "name": "stdin",
     "output_type": "stream",
     "text": [
      "Enter number : 5\n"
     ]
    },
    {
     "name": "stdout",
     "output_type": "stream",
     "text": [
      "Number is Odd\n"
     ]
    }
   ],
   "source": [
    "# Take input from the user and convert it into integer\n",
    "num = int(input(\"Enter number :\")) \n",
    "\n",
    "\n",
    "# Check if number is divisible by 2                     # means (remainder 0)\n",
    "if num % 2 == 0 :\n",
    "    print(\"Number is even\")\n",
    "    \n",
    "\n",
    "# Otherwise the number is not divisible by 2 \n",
    "else:\n",
    "    print(\"Number is Odd\")\n"
   ]
  },
  {
   "cell_type": "code",
   "execution_count": null,
   "id": "4956c7d0-7937-4899-8699-2e2ad81a7769",
   "metadata": {},
   "outputs": [],
   "source": []
  },
  {
   "cell_type": "markdown",
   "id": "f96c29a1-4dc7-437b-89a0-221f8e930ff7",
   "metadata": {},
   "source": [
    "### Write a program to find the Sum of First N Natural Numbers."
   ]
  },
  {
   "cell_type": "code",
   "execution_count": 4,
   "id": "485c2132-2a0a-4aaf-8672-442c9b70dd6d",
   "metadata": {},
   "outputs": [
    {
     "name": "stdout",
     "output_type": "stream",
     "text": [
      "15\n"
     ]
    }
   ],
   "source": [
    "# Using for loop                                                                   \n",
    "\n",
    "# Set the value of N (how many natural numbers to add)\n",
    "num = 5\n",
    "\n",
    "# Initialize sum variable with 0\n",
    "sum = 0 \n",
    "\n",
    "# Loop from 0 to num (inclusive) → range(num+1) means 0,1,2,...,num\n",
    "for i in range (num + 1):\n",
    "    sum += i                    # Add each number i to sum\n",
    "print(sum)"
   ]
  },
  {
   "cell_type": "code",
   "execution_count": null,
   "id": "0fab79a6-66cd-43f9-8d7f-1e5d10d32705",
   "metadata": {},
   "outputs": [],
   "source": [
    "# Output \n",
    "# Step by Step Execution (when num = 5):\n",
    "\n",
    "# Start: sum = 0\n",
    "\n",
    "# i = 0 → sum = 0 + 0 = 0\n",
    "\n",
    "# i = 1 → sum = 0 + 1 = 1\n",
    "\n",
    "#i = 2 → sum = 1 + 2 = 3\n",
    "\n",
    "# i = 3 → sum = 3 + 3 = 6\n",
    "\n",
    "# i = 4 → sum = 6 + 4 = 10\n",
    "\n",
    "# i = 5 → sum = 10 + 5 = 15"
   ]
  },
  {
   "cell_type": "markdown",
   "id": "3e6b9d32-5fe9-46f5-b013-1bf0fa5d0495",
   "metadata": {},
   "source": [
    "### Write a program the Sum of Numbers in a given Range in Python."
   ]
  },
  {
   "cell_type": "code",
   "execution_count": 6,
   "id": "d8eebf40-5611-4546-897a-db05294b8dde",
   "metadata": {},
   "outputs": [
    {
     "name": "stdout",
     "output_type": "stream",
     "text": [
      "9\n"
     ]
    }
   ],
   "source": [
    "# Using for loop  \n",
    "\n",
    "# Starting number of the range\n",
    "num1 = 2\n",
    "\n",
    "# Ending number of the range\n",
    "num2 = 4\n",
    "\n",
    "# Initialize sum variable with 0 (to store total)\n",
    "sum = 0 \n",
    "\n",
    "# Loop from num1 to num2 (inclusive)\n",
    "for i in range(num1 , num2 +1):\n",
    "    sum = sum + i                    # Add each number to sum\n",
    "\n",
    "print(sum)\n"
   ]
  },
  {
   "cell_type": "code",
   "execution_count": null,
   "id": "274d3204-ac71-40b5-823f-6ca23d833790",
   "metadata": {},
   "outputs": [],
   "source": [
    "# Output \n",
    "# Step by Step Execution (for num1 = 2, num2 = 4):\n",
    "\n",
    "# Start: sum = 0\n",
    "\n",
    "# i = 2 → sum = 0 + 2 = 2\n",
    "\n",
    "# i = 3 → sum = 2 + 3 = 5\n",
    "\n",
    "# i = 4 → sum = 5 + 4 = 9\n",
    "\n"
   ]
  },
  {
   "cell_type": "code",
   "execution_count": null,
   "id": "6ab677a2-90f6-4a94-8b10-7a1d8f34aa50",
   "metadata": {},
   "outputs": [],
   "source": []
  },
  {
   "cell_type": "markdown",
   "id": "a9d73f83-0aaf-4885-a04a-4084f32cbc6c",
   "metadata": {},
   "source": [
    "## Find the Greatest of Two Numbers"
   ]
  },
  {
   "cell_type": "code",
   "execution_count": 3,
   "id": "6f53bd75-135f-4319-b8d2-9a499e6175e7",
   "metadata": {},
   "outputs": [
    {
     "name": "stdout",
     "output_type": "stream",
     "text": [
      "40\n"
     ]
    }
   ],
   "source": [
    "# Using if - else\n",
    "\n",
    "num1 = 20\n",
    "num2 = 40\n",
    "\n",
    "if (num1 > num2):          # Check if num1 is greater \n",
    "    print(num1)\n",
    "\n",
    "else:                    \n",
    "    print(num2)            # Otherwise num2 is greater \n",
    "\n"
   ]
  },
  {
   "cell_type": "code",
   "execution_count": null,
   "id": "8e0f1242-262d-406a-bef9-0fe681c6f829",
   "metadata": {},
   "outputs": [],
   "source": []
  },
  {
   "cell_type": "code",
   "execution_count": null,
   "id": "5ddbe97a-6028-4eaf-a139-2c04e3d4d8d1",
   "metadata": {},
   "outputs": [],
   "source": []
  }
 ],
 "metadata": {
  "kernelspec": {
   "display_name": "Python 3 (ipykernel)",
   "language": "python",
   "name": "python3"
  },
  "language_info": {
   "codemirror_mode": {
    "name": "ipython",
    "version": 3
   },
   "file_extension": ".py",
   "mimetype": "text/x-python",
   "name": "python",
   "nbconvert_exporter": "python",
   "pygments_lexer": "ipython3",
   "version": "3.11.4"
  }
 },
 "nbformat": 4,
 "nbformat_minor": 5
}

{
 "cells": [
  {
   "cell_type": "markdown",
   "id": "383d89e5-df6d-4867-bdb5-3dacf421803d",
   "metadata": {},
   "source": [
    "### Write a program to check if a number is Positive or Negative."
   ]
  },
  {
   "cell_type": "code",
   "execution_count": 2,
   "id": "56c2ef07-8b9d-4990-b8dc-0c440398e734",
   "metadata": {},
   "outputs": [
    {
     "name": "stdin",
     "output_type": "stream",
     "text": [
      "Enter number : 4\n"
     ]
    },
    {
     "name": "stdout",
     "output_type": "stream",
     "text": [
      "Positive\n"
     ]
    }
   ],
   "source": [
    "num = int(input(\"Enter number :\")) \n",
    "\n",
    "if num > 0 :\n",
    "    print(\"Positive\")\n",
    "\n",
    "elif num < 0 :\n",
    "    print(\"Negative\")\n",
    "\n",
    "else:\n",
    "    print(\"Zero\")"
   ]
  },
  {
   "cell_type": "code",
   "execution_count": null,
   "id": "ede5edde-da95-49cb-be63-18579e398d49",
   "metadata": {},
   "outputs": [],
   "source": []
  },
  {
   "cell_type": "markdown",
   "id": "2f01132f-4882-4280-bcb8-978effb4e791",
   "metadata": {},
   "source": [
    "### Write a program to check whether a number is Even or Odd."
   ]
  },
  {
   "cell_type": "code",
   "execution_count": 4,
   "id": "5060ae8a-f1bf-4b26-b29c-77213f3f1371",
   "metadata": {},
   "outputs": [
    {
     "name": "stdin",
     "output_type": "stream",
     "text": [
      "Enter number : 5\n"
     ]
    },
    {
     "name": "stdout",
     "output_type": "stream",
     "text": [
      "Number is Odd\n"
     ]
    }
   ],
   "source": [
    "num = int(input(\"Enter number :\")) \n",
    "\n",
    "if num % 2 == 0 :\n",
    "    print(\"Number is even\")\n",
    "\n",
    "else:\n",
    "    print(\"Number is Odd\")\n"
   ]
  },
  {
   "cell_type": "code",
   "execution_count": null,
   "id": "4956c7d0-7937-4899-8699-2e2ad81a7769",
   "metadata": {},
   "outputs": [],
   "source": []
  }
 ],
 "metadata": {
  "kernelspec": {
   "display_name": "Python 3 (ipykernel)",
   "language": "python",
   "name": "python3"
  },
  "language_info": {
   "codemirror_mode": {
    "name": "ipython",
    "version": 3
   },
   "file_extension": ".py",
   "mimetype": "text/x-python",
   "name": "python",
   "nbconvert_exporter": "python",
   "pygments_lexer": "ipython3",
   "version": "3.11.4"
  }
 },
 "nbformat": 4,
 "nbformat_minor": 5
}
